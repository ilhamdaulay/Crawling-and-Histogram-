{
 "cells": [
  {
   "cell_type": "markdown",
   "metadata": {},
   "source": [
    "<h3> Lanjutan Crawling </h3>"
   ]
  },
  {
   "cell_type": "code",
   "execution_count": 3,
   "metadata": {},
   "outputs": [],
   "source": [
    "import tweepy\n",
    "import json"
   ]
  },
  {
   "cell_type": "code",
   "execution_count": 20,
   "metadata": {},
   "outputs": [],
   "source": [
    "ACCESS_TOKEN ='702078644391276545-sO82x3CVikOCm8HY0wCkxLWtnkqzci3'\n",
    "ACCESS_SECRET ='B4TbG8PZrWWHPPRls1fDbe5jSORIoF6sPbQvQAScS7GP2'\n",
    "CONSUMER_KEY = '0K7MLF8yQYLa98rWNb7f8TeFP'\n",
    "CONSUMER_SECRET = 'h4qOCGw2fQVUiwo9l75ddLKaRBt0JOIqWeDWtHnPOAJnTp4v09'"
   ]
  },
  {
   "cell_type": "code",
   "execution_count": 21,
   "metadata": {},
   "outputs": [],
   "source": [
    "def connect_to_twitter_OAuth():\n",
    "    auth = tweepy.OAuthHandler(CONSUMER_KEY,CONSUMER_SECRET)\n",
    "    auth.set_access_token(ACCESS_TOKEN,ACCESS_SECRET)\n",
    "    \n",
    "    api = tweepy.API(auth)\n",
    "    return api\n",
    "\n",
    "api = connect_to_twitter_OAuth()"
   ]
  },
  {
   "cell_type": "code",
   "execution_count": 22,
   "metadata": {},
   "outputs": [
    {
     "name": "stdout",
     "output_type": "stream",
     "text": [
      "Inilah Foto Resmi Presiden dan Wakil Presiden RI Periode 2019-2024 https://t.co/AIEXgv5VoB\n",
      "Kembangkan Ekonomi Kreatif Fesyen, Pemerintah Ajak Kolaborasi Berdayakan Perempuan, UMKM, dan Produk Dalam Negeri https://t.co/pzJsJHCR61\n",
      "Menko Luhut: Mobil Listrik Jangan Bergantung Impor https://t.co/uJcKfC1lZk\n",
      "Sobat Runner, yuk ajak sahabat dan keluarga untuk berpartisipasi dalam acara #PertaminaEcoRun2019. Jangan lewatkan… https://t.co/CACwPFNiP9\n",
      "Hai, hai, haiiii selamat kepada pemenang seleksi karya lingkungan Pertamina Eco Camp 2019. \n",
      "Kalian bisa cek link di… https://t.co/U6bY5HaAIb\n",
      "Beragam produk mitra binaan di booth Pertamina menjadi daya tarik sebagian pengunjung di acara Trade Expo Indonesia… https://t.co/CoS2SnANhO\n",
      "Dalam pameran CRAFINA tahun ini, 18 mitra binaan Pertamina berpartisipasi untuk mempromosikan hasil kerajinannya.… https://t.co/YM5xThTOT6\n",
      "Sekitar 50 penggiat industri kreatif dan UMKM asal Tangerang Selatan, hadir untuk mendapatkan informasi mengenai pr… https://t.co/fy4wfW4UjM\n",
      "Dirjen PPI: Modus Penipuan Berubah, Masyarakat Harus Bijak Bersosial Media https://t.co/DSTFIRFUIS\n",
      "5.Mendikbud menyampaikan, #DigitalisasiSekolah tidak akan menggantikan peran guru sebagai pendidik. Guru akan semak… https://t.co/SQuuZgAUXr\n",
      "4.Melalui #DigitalisasiSekolah, guru dan siswa jadi lebih mudah mengakses berbagai sumber belajar yang berkualitas… https://t.co/Tx2n38tF0l\n",
      "3.#DigitalisasiSekolah melalui pemanfaatan #BOSAfirmasi membantu peningkatan mutu pemelajaran, khususnya untuk seko… https://t.co/nLSVGkNHe7\n",
      "2.Program #DigitalisasiSekolah menjadi terobosan pemanfaatan TIK untuk mempercepat perluasan akses pendidikan yang… https://t.co/RctpNGkWNl\n",
      "1.Dalam rangka menyiapkan sekolah memasuki era revolusi industri 4.0, serta dalam memenuhi nawa cita ke-3,… https://t.co/u39VAv4KTQ\n",
      "@rizkiaaaann Terima kasih sobat @bacotkamuseyeng untuk semangat dan dukungannya. Sukses selalu. :) -Roza-\n",
      "RT @Fsetu: Chief RA @rudiantara_id bersama Dirut @TVRINasional @helmyyahya menyanyikan 'lagu andalan' Soldier of Fortune di acara 5 thn For…\n",
      "Dinantikan Rakyat, Palapa Ring Potensial Dongkrak Ekonomi Digital USD 130 Miliar https://t.co/ldixyGlSu8\n",
      "BKN: Banyak Modus Penipuan Jelang Penerimaan CPNS https://t.co/I0nOXW1HtS\n"
     ]
    }
   ],
   "source": [
    "public_tweets = api.home_timeline()\n",
    "for tweet in public_tweets:\n",
    "    print(tweet.text)"
   ]
  },
  {
   "cell_type": "markdown",
   "metadata": {},
   "source": [
    "</h4> Format Json </h4>"
   ]
  },
  {
   "cell_type": "code",
   "execution_count": 26,
   "metadata": {},
   "outputs": [],
   "source": [
    "def process_or_store(tweet):\n",
    "    print(json.dumps(tweet))"
   ]
  },
  {
   "cell_type": "code",
   "execution_count": 27,
   "metadata": {},
   "outputs": [
    {
     "name": "stdout",
     "output_type": "stream",
     "text": [
      "{\"created_at\": \"Fri Oct 18 07:07:32 +0000 2019\", \"id\": 1185090016977883136, \"id_str\": \"1185090016977883136\", \"text\": \"Inilah Foto Resmi Presiden dan Wakil Presiden RI Periode 2019-2024 https://t.co/AIEXgv5VoB\", \"truncated\": false, \"entities\": {\"hashtags\": [], \"symbols\": [], \"user_mentions\": [], \"urls\": [{\"url\": \"https://t.co/AIEXgv5VoB\", \"expanded_url\": \"http://dlvr.it/RGRXYk\", \"display_url\": \"dlvr.it/RGRXYk\", \"indices\": [67, 90]}]}, \"source\": \"<a href=\\\"https://dlvrit.com/\\\" rel=\\\"nofollow\\\">dlvr.it</a>\", \"in_reply_to_status_id\": null, \"in_reply_to_status_id_str\": null, \"in_reply_to_user_id\": null, \"in_reply_to_user_id_str\": null, \"in_reply_to_screen_name\": null, \"user\": {\"id\": 177848697, \"id_str\": \"177848697\", \"name\": \"Kementerian Kominfo\", \"screen_name\": \"kemkominfo\", \"location\": \"Jakarta Indonesia\", \"description\": \"Akun Resmi Kementerian Komunikasi dan Informatika RI | Ministry of Communication and Information Technology Indonesia | 021-3452841 | humas@kominfo.go.id\", \"url\": \"https://t.co/b6shzPM6Yw\", \"entities\": {\"url\": {\"urls\": [{\"url\": \"https://t.co/b6shzPM6Yw\", \"expanded_url\": \"http://www.kominfo.go.id/\", \"display_url\": \"kominfo.go.id\", \"indices\": [0, 23]}]}, \"description\": {\"urls\": []}}, \"protected\": false, \"followers_count\": 906545, \"friends_count\": 172, \"listed_count\": 627, \"created_at\": \"Fri Aug 13 06:04:56 +0000 2010\", \"favourites_count\": 380, \"utc_offset\": null, \"time_zone\": null, \"geo_enabled\": true, \"verified\": true, \"statuses_count\": 22137, \"lang\": null, \"contributors_enabled\": false, \"is_translator\": false, \"is_translation_enabled\": false, \"profile_background_color\": \"FFFFFF\", \"profile_background_image_url\": \"http://abs.twimg.com/images/themes/theme1/bg.png\", \"profile_background_image_url_https\": \"https://abs.twimg.com/images/themes/theme1/bg.png\", \"profile_background_tile\": false, \"profile_image_url\": \"http://pbs.twimg.com/profile_images/967981296998785024/JPibDQqM_normal.jpg\", \"profile_image_url_https\": \"https://pbs.twimg.com/profile_images/967981296998785024/JPibDQqM_normal.jpg\", \"profile_banner_url\": \"https://pbs.twimg.com/profile_banners/177848697/1570095063\", \"profile_link_color\": \"0084B4\", \"profile_sidebar_border_color\": \"C0DEED\", \"profile_sidebar_fill_color\": \"DDEEF6\", \"profile_text_color\": \"333333\", \"profile_use_background_image\": true, \"has_extended_profile\": false, \"default_profile\": false, \"default_profile_image\": false, \"following\": true, \"follow_request_sent\": false, \"notifications\": false, \"translator_type\": \"none\"}, \"geo\": null, \"coordinates\": null, \"place\": null, \"contributors\": null, \"is_quote_status\": false, \"retweet_count\": 27, \"favorite_count\": 81, \"favorited\": false, \"retweeted\": false, \"possibly_sensitive\": false, \"possibly_sensitive_appealable\": false, \"lang\": \"in\"}\n",
      "{\"created_at\": \"Fri Oct 18 01:12:32 +0000 2019\", \"id\": 1185000677593907200, \"id_str\": \"1185000677593907200\", \"text\": \"Kembangkan Ekonomi Kreatif Fesyen, Pemerintah Ajak Kolaborasi Berdayakan Perempuan, UMKM, dan Produk Dalam Negeri https://t.co/pzJsJHCR61\", \"truncated\": false, \"entities\": {\"hashtags\": [], \"symbols\": [], \"user_mentions\": [], \"urls\": [{\"url\": \"https://t.co/pzJsJHCR61\", \"expanded_url\": \"http://dlvr.it/RGQrtM\", \"display_url\": \"dlvr.it/RGQrtM\", \"indices\": [114, 137]}]}, \"source\": \"<a href=\\\"https://dlvrit.com/\\\" rel=\\\"nofollow\\\">dlvr.it</a>\", \"in_reply_to_status_id\": null, \"in_reply_to_status_id_str\": null, \"in_reply_to_user_id\": null, \"in_reply_to_user_id_str\": null, \"in_reply_to_screen_name\": null, \"user\": {\"id\": 177848697, \"id_str\": \"177848697\", \"name\": \"Kementerian Kominfo\", \"screen_name\": \"kemkominfo\", \"location\": \"Jakarta Indonesia\", \"description\": \"Akun Resmi Kementerian Komunikasi dan Informatika RI | Ministry of Communication and Information Technology Indonesia | 021-3452841 | humas@kominfo.go.id\", \"url\": \"https://t.co/b6shzPM6Yw\", \"entities\": {\"url\": {\"urls\": [{\"url\": \"https://t.co/b6shzPM6Yw\", \"expanded_url\": \"http://www.kominfo.go.id/\", \"display_url\": \"kominfo.go.id\", \"indices\": [0, 23]}]}, \"description\": {\"urls\": []}}, \"protected\": false, \"followers_count\": 906545, \"friends_count\": 172, \"listed_count\": 627, \"created_at\": \"Fri Aug 13 06:04:56 +0000 2010\", \"favourites_count\": 380, \"utc_offset\": null, \"time_zone\": null, \"geo_enabled\": true, \"verified\": true, \"statuses_count\": 22137, \"lang\": null, \"contributors_enabled\": false, \"is_translator\": false, \"is_translation_enabled\": false, \"profile_background_color\": \"FFFFFF\", \"profile_background_image_url\": \"http://abs.twimg.com/images/themes/theme1/bg.png\", \"profile_background_image_url_https\": \"https://abs.twimg.com/images/themes/theme1/bg.png\", \"profile_background_tile\": false, \"profile_image_url\": \"http://pbs.twimg.com/profile_images/967981296998785024/JPibDQqM_normal.jpg\", \"profile_image_url_https\": \"https://pbs.twimg.com/profile_images/967981296998785024/JPibDQqM_normal.jpg\", \"profile_banner_url\": \"https://pbs.twimg.com/profile_banners/177848697/1570095063\", \"profile_link_color\": \"0084B4\", \"profile_sidebar_border_color\": \"C0DEED\", \"profile_sidebar_fill_color\": \"DDEEF6\", \"profile_text_color\": \"333333\", \"profile_use_background_image\": true, \"has_extended_profile\": false, \"default_profile\": false, \"default_profile_image\": false, \"following\": true, \"follow_request_sent\": false, \"notifications\": false, \"translator_type\": \"none\"}, \"geo\": null, \"coordinates\": null, \"place\": null, \"contributors\": null, \"is_quote_status\": false, \"retweet_count\": 3, \"favorite_count\": 18, \"favorited\": false, \"retweeted\": false, \"possibly_sensitive\": false, \"possibly_sensitive_appealable\": false, \"lang\": \"in\"}\n",
      "{\"created_at\": \"Fri Oct 18 01:12:32 +0000 2019\", \"id\": 1185000676696326144, \"id_str\": \"1185000676696326144\", \"text\": \"Menko Luhut: Mobil Listrik Jangan Bergantung Impor https://t.co/uJcKfC1lZk\", \"truncated\": false, \"entities\": {\"hashtags\": [], \"symbols\": [], \"user_mentions\": [], \"urls\": [{\"url\": \"https://t.co/uJcKfC1lZk\", \"expanded_url\": \"http://dlvr.it/RGQrqm\", \"display_url\": \"dlvr.it/RGQrqm\", \"indices\": [51, 74]}]}, \"source\": \"<a href=\\\"https://dlvrit.com/\\\" rel=\\\"nofollow\\\">dlvr.it</a>\", \"in_reply_to_status_id\": null, \"in_reply_to_status_id_str\": null, \"in_reply_to_user_id\": null, \"in_reply_to_user_id_str\": null, \"in_reply_to_screen_name\": null, \"user\": {\"id\": 177848697, \"id_str\": \"177848697\", \"name\": \"Kementerian Kominfo\", \"screen_name\": \"kemkominfo\", \"location\": \"Jakarta Indonesia\", \"description\": \"Akun Resmi Kementerian Komunikasi dan Informatika RI | Ministry of Communication and Information Technology Indonesia | 021-3452841 | humas@kominfo.go.id\", \"url\": \"https://t.co/b6shzPM6Yw\", \"entities\": {\"url\": {\"urls\": [{\"url\": \"https://t.co/b6shzPM6Yw\", \"expanded_url\": \"http://www.kominfo.go.id/\", \"display_url\": \"kominfo.go.id\", \"indices\": [0, 23]}]}, \"description\": {\"urls\": []}}, \"protected\": false, \"followers_count\": 906545, \"friends_count\": 172, \"listed_count\": 627, \"created_at\": \"Fri Aug 13 06:04:56 +0000 2010\", \"favourites_count\": 380, \"utc_offset\": null, \"time_zone\": null, \"geo_enabled\": true, \"verified\": true, \"statuses_count\": 22137, \"lang\": null, \"contributors_enabled\": false, \"is_translator\": false, \"is_translation_enabled\": false, \"profile_background_color\": \"FFFFFF\", \"profile_background_image_url\": \"http://abs.twimg.com/images/themes/theme1/bg.png\", \"profile_background_image_url_https\": \"https://abs.twimg.com/images/themes/theme1/bg.png\", \"profile_background_tile\": false, \"profile_image_url\": \"http://pbs.twimg.com/profile_images/967981296998785024/JPibDQqM_normal.jpg\", \"profile_image_url_https\": \"https://pbs.twimg.com/profile_images/967981296998785024/JPibDQqM_normal.jpg\", \"profile_banner_url\": \"https://pbs.twimg.com/profile_banners/177848697/1570095063\", \"profile_link_color\": \"0084B4\", \"profile_sidebar_border_color\": \"C0DEED\", \"profile_sidebar_fill_color\": \"DDEEF6\", \"profile_text_color\": \"333333\", \"profile_use_background_image\": true, \"has_extended_profile\": false, \"default_profile\": false, \"default_profile_image\": false, \"following\": true, \"follow_request_sent\": false, \"notifications\": false, \"translator_type\": \"none\"}, \"geo\": null, \"coordinates\": null, \"place\": null, \"contributors\": null, \"is_quote_status\": false, \"retweet_count\": 2, \"favorite_count\": 11, \"favorited\": false, \"retweeted\": false, \"possibly_sensitive\": false, \"possibly_sensitive_appealable\": false, \"lang\": \"in\"}\n",
      "{\"created_at\": \"Thu Oct 17 10:23:59 +0000 2019\", \"id\": 1184777067767840769, \"id_str\": \"1184777067767840769\", \"text\": \"Sobat Runner, yuk ajak sahabat dan keluarga untuk berpartisipasi dalam acara #PertaminaEcoRun2019. Jangan lewatkan\\u2026 https://t.co/CACwPFNiP9\", \"truncated\": true, \"entities\": {\"hashtags\": [{\"text\": \"PertaminaEcoRun2019\", \"indices\": [77, 97]}], \"symbols\": [], \"user_mentions\": [], \"urls\": [{\"url\": \"https://t.co/CACwPFNiP9\", \"expanded_url\": \"https://twitter.com/i/web/status/1184777067767840769\", \"display_url\": \"twitter.com/i/web/status/1\\u2026\", \"indices\": [116, 139]}]}, \"source\": \"<a href=\\\"https://mobile.twitter.com\\\" rel=\\\"nofollow\\\">Twitter Web App</a>\", \"in_reply_to_status_id\": null, \"in_reply_to_status_id_str\": null, \"in_reply_to_user_id\": null, \"in_reply_to_user_id_str\": null, \"in_reply_to_screen_name\": null, \"user\": {\"id\": 171741891, \"id_str\": \"171741891\", \"name\": \"PERTAMINA\", \"screen_name\": \"pertamina\", \"location\": \"Jakarta, Indonesia\", \"description\": \"Official Twitter Account of PERTAMINA.\\nContact Pertamina 1500-000  pcc@pertamina.com | Recruitment : https://t.co/m2XAX44Bdy\", \"url\": \"https://t.co/azpUDe70ec\", \"entities\": {\"url\": {\"urls\": [{\"url\": \"https://t.co/azpUDe70ec\", \"expanded_url\": \"http://www.pertamina.com/\", \"display_url\": \"pertamina.com\", \"indices\": [0, 23]}]}, \"description\": {\"urls\": [{\"url\": \"https://t.co/m2XAX44Bdy\", \"expanded_url\": \"http://recruitment.pertamina.com\", \"display_url\": \"recruitment.pertamina.com\", \"indices\": [101, 124]}]}}, \"protected\": false, \"followers_count\": 120741, \"friends_count\": 57, \"listed_count\": 168, \"created_at\": \"Wed Jul 28 02:01:05 +0000 2010\", \"favourites_count\": 482, \"utc_offset\": null, \"time_zone\": null, \"geo_enabled\": true, \"verified\": true, \"statuses_count\": 45675, \"lang\": null, \"contributors_enabled\": false, \"is_translator\": false, \"is_translation_enabled\": false, \"profile_background_color\": \"006BB7\", \"profile_background_image_url\": \"http://abs.twimg.com/images/themes/theme1/bg.png\", \"profile_background_image_url_https\": \"https://abs.twimg.com/images/themes/theme1/bg.png\", \"profile_background_tile\": false, \"profile_image_url\": \"http://pbs.twimg.com/profile_images/874834013512499201/7Q5HhU3P_normal.jpg\", \"profile_image_url_https\": \"https://pbs.twimg.com/profile_images/874834013512499201/7Q5HhU3P_normal.jpg\", \"profile_banner_url\": \"https://pbs.twimg.com/profile_banners/171741891/1568004960\", \"profile_link_color\": \"0E3BF0\", \"profile_sidebar_border_color\": \"FFFFFF\", \"profile_sidebar_fill_color\": \"9ED2FA\", \"profile_text_color\": \"000000\", \"profile_use_background_image\": true, \"has_extended_profile\": false, \"default_profile\": false, \"default_profile_image\": false, \"following\": true, \"follow_request_sent\": false, \"notifications\": false, \"translator_type\": \"none\"}, \"geo\": null, \"coordinates\": null, \"place\": null, \"contributors\": null, \"is_quote_status\": false, \"retweet_count\": 98, \"favorite_count\": 59, \"favorited\": false, \"retweeted\": false, \"possibly_sensitive\": false, \"possibly_sensitive_appealable\": false, \"lang\": \"in\"}\n",
      "{\"created_at\": \"Thu Oct 17 09:24:56 +0000 2019\", \"id\": 1184762206295998465, \"id_str\": \"1184762206295998465\", \"text\": \"Hai, hai, haiiii selamat kepada pemenang seleksi karya lingkungan Pertamina Eco Camp 2019. \\nKalian bisa cek link di\\u2026 https://t.co/U6bY5HaAIb\", \"truncated\": true, \"entities\": {\"hashtags\": [], \"symbols\": [], \"user_mentions\": [], \"urls\": [{\"url\": \"https://t.co/U6bY5HaAIb\", \"expanded_url\": \"https://twitter.com/i/web/status/1184762206295998465\", \"display_url\": \"twitter.com/i/web/status/1\\u2026\", \"indices\": [117, 140]}]}, \"source\": \"<a href=\\\"http://twitter.com/download/iphone\\\" rel=\\\"nofollow\\\">Twitter for iPhone</a>\", \"in_reply_to_status_id\": null, \"in_reply_to_status_id_str\": null, \"in_reply_to_user_id\": null, \"in_reply_to_user_id_str\": null, \"in_reply_to_screen_name\": null, \"user\": {\"id\": 171741891, \"id_str\": \"171741891\", \"name\": \"PERTAMINA\", \"screen_name\": \"pertamina\", \"location\": \"Jakarta, Indonesia\", \"description\": \"Official Twitter Account of PERTAMINA.\\nContact Pertamina 1500-000  pcc@pertamina.com | Recruitment : https://t.co/m2XAX44Bdy\", \"url\": \"https://t.co/azpUDe70ec\", \"entities\": {\"url\": {\"urls\": [{\"url\": \"https://t.co/azpUDe70ec\", \"expanded_url\": \"http://www.pertamina.com/\", \"display_url\": \"pertamina.com\", \"indices\": [0, 23]}]}, \"description\": {\"urls\": [{\"url\": \"https://t.co/m2XAX44Bdy\", \"expanded_url\": \"http://recruitment.pertamina.com\", \"display_url\": \"recruitment.pertamina.com\", \"indices\": [101, 124]}]}}, \"protected\": false, \"followers_count\": 120741, \"friends_count\": 57, \"listed_count\": 168, \"created_at\": \"Wed Jul 28 02:01:05 +0000 2010\", \"favourites_count\": 482, \"utc_offset\": null, \"time_zone\": null, \"geo_enabled\": true, \"verified\": true, \"statuses_count\": 45675, \"lang\": null, \"contributors_enabled\": false, \"is_translator\": false, \"is_translation_enabled\": false, \"profile_background_color\": \"006BB7\", \"profile_background_image_url\": \"http://abs.twimg.com/images/themes/theme1/bg.png\", \"profile_background_image_url_https\": \"https://abs.twimg.com/images/themes/theme1/bg.png\", \"profile_background_tile\": false, \"profile_image_url\": \"http://pbs.twimg.com/profile_images/874834013512499201/7Q5HhU3P_normal.jpg\", \"profile_image_url_https\": \"https://pbs.twimg.com/profile_images/874834013512499201/7Q5HhU3P_normal.jpg\", \"profile_banner_url\": \"https://pbs.twimg.com/profile_banners/171741891/1568004960\", \"profile_link_color\": \"0E3BF0\", \"profile_sidebar_border_color\": \"FFFFFF\", \"profile_sidebar_fill_color\": \"9ED2FA\", \"profile_text_color\": \"000000\", \"profile_use_background_image\": true, \"has_extended_profile\": false, \"default_profile\": false, \"default_profile_image\": false, \"following\": true, \"follow_request_sent\": false, \"notifications\": false, \"translator_type\": \"none\"}, \"geo\": null, \"coordinates\": null, \"place\": null, \"contributors\": null, \"is_quote_status\": false, \"retweet_count\": 6, \"favorite_count\": 7, \"favorited\": false, \"retweeted\": false, \"possibly_sensitive\": false, \"possibly_sensitive_appealable\": false, \"lang\": \"in\"}\n",
      "{\"created_at\": \"Thu Oct 17 09:16:32 +0000 2019\", \"id\": 1184760091293040642, \"id_str\": \"1184760091293040642\", \"text\": \"Beragam produk mitra binaan di booth Pertamina menjadi daya tarik sebagian pengunjung di acara Trade Expo Indonesia\\u2026 https://t.co/CoS2SnANhO\", \"truncated\": true, \"entities\": {\"hashtags\": [], \"symbols\": [], \"user_mentions\": [], \"urls\": [{\"url\": \"https://t.co/CoS2SnANhO\", \"expanded_url\": \"https://twitter.com/i/web/status/1184760091293040642\", \"display_url\": \"twitter.com/i/web/status/1\\u2026\", \"indices\": [117, 140]}]}, \"source\": \"<a href=\\\"https://mobile.twitter.com\\\" rel=\\\"nofollow\\\">Twitter Web App</a>\", \"in_reply_to_status_id\": null, \"in_reply_to_status_id_str\": null, \"in_reply_to_user_id\": null, \"in_reply_to_user_id_str\": null, \"in_reply_to_screen_name\": null, \"user\": {\"id\": 171741891, \"id_str\": \"171741891\", \"name\": \"PERTAMINA\", \"screen_name\": \"pertamina\", \"location\": \"Jakarta, Indonesia\", \"description\": \"Official Twitter Account of PERTAMINA.\\nContact Pertamina 1500-000  pcc@pertamina.com | Recruitment : https://t.co/m2XAX44Bdy\", \"url\": \"https://t.co/azpUDe70ec\", \"entities\": {\"url\": {\"urls\": [{\"url\": \"https://t.co/azpUDe70ec\", \"expanded_url\": \"http://www.pertamina.com/\", \"display_url\": \"pertamina.com\", \"indices\": [0, 23]}]}, \"description\": {\"urls\": [{\"url\": \"https://t.co/m2XAX44Bdy\", \"expanded_url\": \"http://recruitment.pertamina.com\", \"display_url\": \"recruitment.pertamina.com\", \"indices\": [101, 124]}]}}, \"protected\": false, \"followers_count\": 120741, \"friends_count\": 57, \"listed_count\": 168, \"created_at\": \"Wed Jul 28 02:01:05 +0000 2010\", \"favourites_count\": 482, \"utc_offset\": null, \"time_zone\": null, \"geo_enabled\": true, \"verified\": true, \"statuses_count\": 45675, \"lang\": null, \"contributors_enabled\": false, \"is_translator\": false, \"is_translation_enabled\": false, \"profile_background_color\": \"006BB7\", \"profile_background_image_url\": \"http://abs.twimg.com/images/themes/theme1/bg.png\", \"profile_background_image_url_https\": \"https://abs.twimg.com/images/themes/theme1/bg.png\", \"profile_background_tile\": false, \"profile_image_url\": \"http://pbs.twimg.com/profile_images/874834013512499201/7Q5HhU3P_normal.jpg\", \"profile_image_url_https\": \"https://pbs.twimg.com/profile_images/874834013512499201/7Q5HhU3P_normal.jpg\", \"profile_banner_url\": \"https://pbs.twimg.com/profile_banners/171741891/1568004960\", \"profile_link_color\": \"0E3BF0\", \"profile_sidebar_border_color\": \"FFFFFF\", \"profile_sidebar_fill_color\": \"9ED2FA\", \"profile_text_color\": \"000000\", \"profile_use_background_image\": true, \"has_extended_profile\": false, \"default_profile\": false, \"default_profile_image\": false, \"following\": true, \"follow_request_sent\": false, \"notifications\": false, \"translator_type\": \"none\"}, \"geo\": null, \"coordinates\": null, \"place\": null, \"contributors\": null, \"is_quote_status\": false, \"retweet_count\": 5, \"favorite_count\": 5, \"favorited\": false, \"retweeted\": false, \"possibly_sensitive\": false, \"possibly_sensitive_appealable\": false, \"lang\": \"in\"}\n",
      "{\"created_at\": \"Thu Oct 17 07:46:32 +0000 2019\", \"id\": 1184737444991684608, \"id_str\": \"1184737444991684608\", \"text\": \"Dalam pameran CRAFINA tahun ini, 18 mitra binaan Pertamina berpartisipasi untuk mempromosikan hasil kerajinannya.\\u2026 https://t.co/YM5xThTOT6\", \"truncated\": true, \"entities\": {\"hashtags\": [], \"symbols\": [], \"user_mentions\": [], \"urls\": [{\"url\": \"https://t.co/YM5xThTOT6\", \"expanded_url\": \"https://twitter.com/i/web/status/1184737444991684608\", \"display_url\": \"twitter.com/i/web/status/1\\u2026\", \"indices\": [115, 138]}]}, \"source\": \"<a href=\\\"https://mobile.twitter.com\\\" rel=\\\"nofollow\\\">Twitter Web App</a>\", \"in_reply_to_status_id\": null, \"in_reply_to_status_id_str\": null, \"in_reply_to_user_id\": null, \"in_reply_to_user_id_str\": null, \"in_reply_to_screen_name\": null, \"user\": {\"id\": 171741891, \"id_str\": \"171741891\", \"name\": \"PERTAMINA\", \"screen_name\": \"pertamina\", \"location\": \"Jakarta, Indonesia\", \"description\": \"Official Twitter Account of PERTAMINA.\\nContact Pertamina 1500-000  pcc@pertamina.com | Recruitment : https://t.co/m2XAX44Bdy\", \"url\": \"https://t.co/azpUDe70ec\", \"entities\": {\"url\": {\"urls\": [{\"url\": \"https://t.co/azpUDe70ec\", \"expanded_url\": \"http://www.pertamina.com/\", \"display_url\": \"pertamina.com\", \"indices\": [0, 23]}]}, \"description\": {\"urls\": [{\"url\": \"https://t.co/m2XAX44Bdy\", \"expanded_url\": \"http://recruitment.pertamina.com\", \"display_url\": \"recruitment.pertamina.com\", \"indices\": [101, 124]}]}}, \"protected\": false, \"followers_count\": 120741, \"friends_count\": 57, \"listed_count\": 168, \"created_at\": \"Wed Jul 28 02:01:05 +0000 2010\", \"favourites_count\": 482, \"utc_offset\": null, \"time_zone\": null, \"geo_enabled\": true, \"verified\": true, \"statuses_count\": 45675, \"lang\": null, \"contributors_enabled\": false, \"is_translator\": false, \"is_translation_enabled\": false, \"profile_background_color\": \"006BB7\", \"profile_background_image_url\": \"http://abs.twimg.com/images/themes/theme1/bg.png\", \"profile_background_image_url_https\": \"https://abs.twimg.com/images/themes/theme1/bg.png\", \"profile_background_tile\": false, \"profile_image_url\": \"http://pbs.twimg.com/profile_images/874834013512499201/7Q5HhU3P_normal.jpg\", \"profile_image_url_https\": \"https://pbs.twimg.com/profile_images/874834013512499201/7Q5HhU3P_normal.jpg\", \"profile_banner_url\": \"https://pbs.twimg.com/profile_banners/171741891/1568004960\", \"profile_link_color\": \"0E3BF0\", \"profile_sidebar_border_color\": \"FFFFFF\", \"profile_sidebar_fill_color\": \"9ED2FA\", \"profile_text_color\": \"000000\", \"profile_use_background_image\": true, \"has_extended_profile\": false, \"default_profile\": false, \"default_profile_image\": false, \"following\": true, \"follow_request_sent\": false, \"notifications\": false, \"translator_type\": \"none\"}, \"geo\": null, \"coordinates\": null, \"place\": null, \"contributors\": null, \"is_quote_status\": false, \"retweet_count\": 3, \"favorite_count\": 9, \"favorited\": false, \"retweeted\": false, \"possibly_sensitive\": false, \"possibly_sensitive_appealable\": false, \"lang\": \"in\"}\n",
      "{\"created_at\": \"Thu Oct 17 07:27:30 +0000 2019\", \"id\": 1184732652487577600, \"id_str\": \"1184732652487577600\", \"text\": \"Sekitar 50 penggiat industri kreatif dan UMKM asal Tangerang Selatan, hadir untuk mendapatkan informasi mengenai pr\\u2026 https://t.co/fy4wfW4UjM\", \"truncated\": true, \"entities\": {\"hashtags\": [], \"symbols\": [], \"user_mentions\": [], \"urls\": [{\"url\": \"https://t.co/fy4wfW4UjM\", \"expanded_url\": \"https://twitter.com/i/web/status/1184732652487577600\", \"display_url\": \"twitter.com/i/web/status/1\\u2026\", \"indices\": [117, 140]}]}, \"source\": \"<a href=\\\"https://mobile.twitter.com\\\" rel=\\\"nofollow\\\">Twitter Web App</a>\", \"in_reply_to_status_id\": null, \"in_reply_to_status_id_str\": null, \"in_reply_to_user_id\": null, \"in_reply_to_user_id_str\": null, \"in_reply_to_screen_name\": null, \"user\": {\"id\": 171741891, \"id_str\": \"171741891\", \"name\": \"PERTAMINA\", \"screen_name\": \"pertamina\", \"location\": \"Jakarta, Indonesia\", \"description\": \"Official Twitter Account of PERTAMINA.\\nContact Pertamina 1500-000  pcc@pertamina.com | Recruitment : https://t.co/m2XAX44Bdy\", \"url\": \"https://t.co/azpUDe70ec\", \"entities\": {\"url\": {\"urls\": [{\"url\": \"https://t.co/azpUDe70ec\", \"expanded_url\": \"http://www.pertamina.com/\", \"display_url\": \"pertamina.com\", \"indices\": [0, 23]}]}, \"description\": {\"urls\": [{\"url\": \"https://t.co/m2XAX44Bdy\", \"expanded_url\": \"http://recruitment.pertamina.com\", \"display_url\": \"recruitment.pertamina.com\", \"indices\": [101, 124]}]}}, \"protected\": false, \"followers_count\": 120741, \"friends_count\": 57, \"listed_count\": 168, \"created_at\": \"Wed Jul 28 02:01:05 +0000 2010\", \"favourites_count\": 482, \"utc_offset\": null, \"time_zone\": null, \"geo_enabled\": true, \"verified\": true, \"statuses_count\": 45675, \"lang\": null, \"contributors_enabled\": false, \"is_translator\": false, \"is_translation_enabled\": false, \"profile_background_color\": \"006BB7\", \"profile_background_image_url\": \"http://abs.twimg.com/images/themes/theme1/bg.png\", \"profile_background_image_url_https\": \"https://abs.twimg.com/images/themes/theme1/bg.png\", \"profile_background_tile\": false, \"profile_image_url\": \"http://pbs.twimg.com/profile_images/874834013512499201/7Q5HhU3P_normal.jpg\", \"profile_image_url_https\": \"https://pbs.twimg.com/profile_images/874834013512499201/7Q5HhU3P_normal.jpg\", \"profile_banner_url\": \"https://pbs.twimg.com/profile_banners/171741891/1568004960\", \"profile_link_color\": \"0E3BF0\", \"profile_sidebar_border_color\": \"FFFFFF\", \"profile_sidebar_fill_color\": \"9ED2FA\", \"profile_text_color\": \"000000\", \"profile_use_background_image\": true, \"has_extended_profile\": false, \"default_profile\": false, \"default_profile_image\": false, \"following\": true, \"follow_request_sent\": false, \"notifications\": false, \"translator_type\": \"none\"}, \"geo\": null, \"coordinates\": null, \"place\": null, \"contributors\": null, \"is_quote_status\": false, \"retweet_count\": 2, \"favorite_count\": 7, \"favorited\": false, \"retweeted\": false, \"possibly_sensitive\": false, \"possibly_sensitive_appealable\": false, \"lang\": \"in\"}\n",
      "{\"created_at\": \"Thu Oct 17 07:04:01 +0000 2019\", \"id\": 1184726745607372800, \"id_str\": \"1184726745607372800\", \"text\": \"Dirjen PPI: Modus Penipuan Berubah, Masyarakat Harus Bijak Bersosial Media https://t.co/DSTFIRFUIS\", \"truncated\": false, \"entities\": {\"hashtags\": [], \"symbols\": [], \"user_mentions\": [], \"urls\": [{\"url\": \"https://t.co/DSTFIRFUIS\", \"expanded_url\": \"http://dlvr.it/RGMYrt\", \"display_url\": \"dlvr.it/RGMYrt\", \"indices\": [75, 98]}]}, \"source\": \"<a href=\\\"https://dlvrit.com/\\\" rel=\\\"nofollow\\\">dlvr.it</a>\", \"in_reply_to_status_id\": null, \"in_reply_to_status_id_str\": null, \"in_reply_to_user_id\": null, \"in_reply_to_user_id_str\": null, \"in_reply_to_screen_name\": null, \"user\": {\"id\": 177848697, \"id_str\": \"177848697\", \"name\": \"Kementerian Kominfo\", \"screen_name\": \"kemkominfo\", \"location\": \"Jakarta Indonesia\", \"description\": \"Akun Resmi Kementerian Komunikasi dan Informatika RI | Ministry of Communication and Information Technology Indonesia | 021-3452841 | humas@kominfo.go.id\", \"url\": \"https://t.co/b6shzPM6Yw\", \"entities\": {\"url\": {\"urls\": [{\"url\": \"https://t.co/b6shzPM6Yw\", \"expanded_url\": \"http://www.kominfo.go.id/\", \"display_url\": \"kominfo.go.id\", \"indices\": [0, 23]}]}, \"description\": {\"urls\": []}}, \"protected\": false, \"followers_count\": 906545, \"friends_count\": 172, \"listed_count\": 627, \"created_at\": \"Fri Aug 13 06:04:56 +0000 2010\", \"favourites_count\": 380, \"utc_offset\": null, \"time_zone\": null, \"geo_enabled\": true, \"verified\": true, \"statuses_count\": 22137, \"lang\": null, \"contributors_enabled\": false, \"is_translator\": false, \"is_translation_enabled\": false, \"profile_background_color\": \"FFFFFF\", \"profile_background_image_url\": \"http://abs.twimg.com/images/themes/theme1/bg.png\", \"profile_background_image_url_https\": \"https://abs.twimg.com/images/themes/theme1/bg.png\", \"profile_background_tile\": false, \"profile_image_url\": \"http://pbs.twimg.com/profile_images/967981296998785024/JPibDQqM_normal.jpg\", \"profile_image_url_https\": \"https://pbs.twimg.com/profile_images/967981296998785024/JPibDQqM_normal.jpg\", \"profile_banner_url\": \"https://pbs.twimg.com/profile_banners/177848697/1570095063\", \"profile_link_color\": \"0084B4\", \"profile_sidebar_border_color\": \"C0DEED\", \"profile_sidebar_fill_color\": \"DDEEF6\", \"profile_text_color\": \"333333\", \"profile_use_background_image\": true, \"has_extended_profile\": false, \"default_profile\": false, \"default_profile_image\": false, \"following\": true, \"follow_request_sent\": false, \"notifications\": false, \"translator_type\": \"none\"}, \"geo\": null, \"coordinates\": null, \"place\": null, \"contributors\": null, \"is_quote_status\": false, \"retweet_count\": 3, \"favorite_count\": 11, \"favorited\": false, \"retweeted\": false, \"possibly_sensitive\": false, \"possibly_sensitive_appealable\": false, \"lang\": \"in\"}\n",
      "{\"created_at\": \"Thu Oct 17 02:19:05 +0000 2019\", \"id\": 1184655037038882816, \"id_str\": \"1184655037038882816\", \"text\": \"5.Mendikbud menyampaikan, #DigitalisasiSekolah tidak akan menggantikan peran guru sebagai pendidik. Guru akan semak\\u2026 https://t.co/SQuuZgAUXr\", \"truncated\": true, \"entities\": {\"hashtags\": [{\"text\": \"DigitalisasiSekolah\", \"indices\": [26, 46]}], \"symbols\": [], \"user_mentions\": [], \"urls\": [{\"url\": \"https://t.co/SQuuZgAUXr\", \"expanded_url\": \"https://twitter.com/i/web/status/1184655037038882816\", \"display_url\": \"twitter.com/i/web/status/1\\u2026\", \"indices\": [117, 140]}]}, \"source\": \"<a href=\\\"http://twitter.com/download/android\\\" rel=\\\"nofollow\\\">Twitter for Android</a>\", \"in_reply_to_status_id\": 1184655021020868608, \"in_reply_to_status_id_str\": \"1184655021020868608\", \"in_reply_to_user_id\": 177848697, \"in_reply_to_user_id_str\": \"177848697\", \"in_reply_to_screen_name\": \"kemkominfo\", \"user\": {\"id\": 177848697, \"id_str\": \"177848697\", \"name\": \"Kementerian Kominfo\", \"screen_name\": \"kemkominfo\", \"location\": \"Jakarta Indonesia\", \"description\": \"Akun Resmi Kementerian Komunikasi dan Informatika RI | Ministry of Communication and Information Technology Indonesia | 021-3452841 | humas@kominfo.go.id\", \"url\": \"https://t.co/b6shzPM6Yw\", \"entities\": {\"url\": {\"urls\": [{\"url\": \"https://t.co/b6shzPM6Yw\", \"expanded_url\": \"http://www.kominfo.go.id/\", \"display_url\": \"kominfo.go.id\", \"indices\": [0, 23]}]}, \"description\": {\"urls\": []}}, \"protected\": false, \"followers_count\": 906545, \"friends_count\": 172, \"listed_count\": 627, \"created_at\": \"Fri Aug 13 06:04:56 +0000 2010\", \"favourites_count\": 380, \"utc_offset\": null, \"time_zone\": null, \"geo_enabled\": true, \"verified\": true, \"statuses_count\": 22137, \"lang\": null, \"contributors_enabled\": false, \"is_translator\": false, \"is_translation_enabled\": false, \"profile_background_color\": \"FFFFFF\", \"profile_background_image_url\": \"http://abs.twimg.com/images/themes/theme1/bg.png\", \"profile_background_image_url_https\": \"https://abs.twimg.com/images/themes/theme1/bg.png\", \"profile_background_tile\": false, \"profile_image_url\": \"http://pbs.twimg.com/profile_images/967981296998785024/JPibDQqM_normal.jpg\", \"profile_image_url_https\": \"https://pbs.twimg.com/profile_images/967981296998785024/JPibDQqM_normal.jpg\", \"profile_banner_url\": \"https://pbs.twimg.com/profile_banners/177848697/1570095063\", \"profile_link_color\": \"0084B4\", \"profile_sidebar_border_color\": \"C0DEED\", \"profile_sidebar_fill_color\": \"DDEEF6\", \"profile_text_color\": \"333333\", \"profile_use_background_image\": true, \"has_extended_profile\": false, \"default_profile\": false, \"default_profile_image\": false, \"following\": true, \"follow_request_sent\": false, \"notifications\": false, \"translator_type\": \"none\"}, \"geo\": null, \"coordinates\": null, \"place\": null, \"contributors\": null, \"is_quote_status\": false, \"retweet_count\": 0, \"favorite_count\": 5, \"favorited\": false, \"retweeted\": false, \"possibly_sensitive\": false, \"possibly_sensitive_appealable\": false, \"lang\": \"in\"}\n"
     ]
    }
   ],
   "source": [
    "for status in tweepy.Cursor(api.home_timeline).items(10):\n",
    "    #procssing a single status\n",
    "    process_or_store(status._json)"
   ]
  },
  {
   "cell_type": "code",
   "execution_count": null,
   "metadata": {},
   "outputs": [
    {
     "name": "stdout",
     "output_type": "stream",
     "text": [
      "401\n",
      "401\n",
      "401\n",
      "401\n",
      "401\n",
      "401\n",
      "401\n",
      "401\n",
      "401\n",
      "401\n",
      "401\n",
      "401\n",
      "401\n",
      "401\n",
      "401\n",
      "401\n",
      "401\n",
      "401\n",
      "401\n",
      "401\n"
     ]
    }
   ],
   "source": [
    "import tweepy\n",
    "import json\n",
    "\n",
    "ACCESS_TOKEN ='702078644391276545-sO82x3CVikOCm8HY0wCkxLWtnkqzci3'\n",
    "ACCESS_SECRET ='B4TbG8PZrWWHPPRls1fDbe5jSORIoF6sPbQvQAScS7GP2'\n",
    "CONSUMER_KEY = '0K7MLF8yQYLa98rWNb7f8TeFP'\n",
    "CONSUMER_SECRET = 'h4qOCGw2fQVUiwo9l75ddLKaRBt0JOIqWeDWtHnPOAJnTp4v09'\n",
    "\n",
    "auth = tweepy.OAuthHandler(CONSUMER_KEY, CONSUMER_SECRET)\n",
    "auth.set_access_token(ACCESS_TOKEN, ACCESS_SECRET)\n",
    "\n",
    "class MyListener(tweepy.StreamListener):\n",
    "    \n",
    "    def on_data(self, data):\n",
    "        try:\n",
    "            with open('python.json', 'a') as f:\n",
    "                f.write(data)\n",
    "                return True\n",
    "        except BaseException as e:\n",
    "            print(\"Error on_data: %s\" % str(e))\n",
    "        return True\n",
    "    def on_error(self,status):\n",
    "        print(status)\n",
    "        return True\n",
    "    \n",
    "twitter_stream = tweepy.Stream(auth, MyListener())\n",
    "twitter_stream.filter(track=['#Welcome'])"
   ]
  },
  {
   "cell_type": "code",
   "execution_count": null,
   "metadata": {},
   "outputs": [],
   "source": []
  }
 ],
 "metadata": {
  "kernelspec": {
   "display_name": "Python 3",
   "language": "python",
   "name": "python3"
  },
  "language_info": {
   "codemirror_mode": {
    "name": "ipython",
    "version": 3
   },
   "file_extension": ".py",
   "mimetype": "text/x-python",
   "name": "python",
   "nbconvert_exporter": "python",
   "pygments_lexer": "ipython3",
   "version": "3.7.3"
  }
 },
 "nbformat": 4,
 "nbformat_minor": 2
}
