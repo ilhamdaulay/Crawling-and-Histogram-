{
 "cells": [
  {
   "cell_type": "code",
   "execution_count": 1,
   "metadata": {},
   "outputs": [],
   "source": [
    "import pandas as pd\n",
    "\n",
    "df = pd.read_csv('flights.csv')"
   ]
  },
  {
   "cell_type": "code",
   "execution_count": 2,
   "metadata": {},
   "outputs": [
    {
     "data": {
      "text/plain": [
       "162049"
      ]
     },
     "execution_count": 2,
     "metadata": {},
     "output_type": "execute_result"
    }
   ],
   "source": [
    "len(df)"
   ]
  },
  {
   "cell_type": "code",
   "execution_count": 3,
   "metadata": {},
   "outputs": [],
   "source": [
    "df2 = df.dropna()"
   ]
  },
  {
   "cell_type": "code",
   "execution_count": 4,
   "metadata": {},
   "outputs": [
    {
     "data": {
      "text/plain": [
       "year           int64\n",
       "month          int64\n",
       "day            int64\n",
       "dep_time     float64\n",
       "dep_delay    float64\n",
       "arr_time     float64\n",
       "arr_delay    float64\n",
       "carrier       object\n",
       "tailnum       object\n",
       "flight         int64\n",
       "origin        object\n",
       "dest          object\n",
       "air_time     float64\n",
       "distance       int64\n",
       "hour         float64\n",
       "minute       float64\n",
       "dtype: object"
      ]
     },
     "execution_count": 4,
     "metadata": {},
     "output_type": "execute_result"
    }
   ],
   "source": [
    "df.dtypes"
   ]
  },
  {
   "cell_type": "code",
   "execution_count": 5,
   "metadata": {},
   "outputs": [
    {
     "data": {
      "text/plain": [
       "Index(['year', 'month', 'day', 'dep_time', 'dep_delay', 'arr_time',\n",
       "       'arr_delay', 'carrier', 'tailnum', 'flight', 'origin', 'dest',\n",
       "       'air_time', 'distance', 'hour', 'minute'],\n",
       "      dtype='object')"
      ]
     },
     "execution_count": 5,
     "metadata": {},
     "output_type": "execute_result"
    }
   ],
   "source": [
    "df.columns"
   ]
  },
  {
   "cell_type": "code",
   "execution_count": 6,
   "metadata": {},
   "outputs": [
    {
     "data": {
      "text/html": [
       "<div>\n",
       "<style scoped>\n",
       "    .dataframe tbody tr th:only-of-type {\n",
       "        vertical-align: middle;\n",
       "    }\n",
       "\n",
       "    .dataframe tbody tr th {\n",
       "        vertical-align: top;\n",
       "    }\n",
       "\n",
       "    .dataframe thead th {\n",
       "        text-align: right;\n",
       "    }\n",
       "</style>\n",
       "<table border=\"1\" class=\"dataframe\">\n",
       "  <thead>\n",
       "    <tr style=\"text-align: right;\">\n",
       "      <th></th>\n",
       "      <th>year</th>\n",
       "      <th>month</th>\n",
       "      <th>day</th>\n",
       "      <th>dep_time</th>\n",
       "      <th>dep_delay</th>\n",
       "      <th>arr_time</th>\n",
       "      <th>arr_delay</th>\n",
       "      <th>flight</th>\n",
       "      <th>air_time</th>\n",
       "      <th>distance</th>\n",
       "      <th>hour</th>\n",
       "      <th>minute</th>\n",
       "    </tr>\n",
       "  </thead>\n",
       "  <tbody>\n",
       "    <tr>\n",
       "      <th>count</th>\n",
       "      <td>162049.0</td>\n",
       "      <td>162049.000000</td>\n",
       "      <td>162049.000000</td>\n",
       "      <td>161192.000000</td>\n",
       "      <td>161192.000000</td>\n",
       "      <td>161061.000000</td>\n",
       "      <td>160748.000000</td>\n",
       "      <td>162049.000000</td>\n",
       "      <td>160748.000000</td>\n",
       "      <td>162049.000000</td>\n",
       "      <td>161192.000000</td>\n",
       "      <td>161192.000000</td>\n",
       "    </tr>\n",
       "    <tr>\n",
       "      <th>mean</th>\n",
       "      <td>2014.0</td>\n",
       "      <td>6.605027</td>\n",
       "      <td>15.749890</td>\n",
       "      <td>1278.283755</td>\n",
       "      <td>6.133859</td>\n",
       "      <td>1482.501282</td>\n",
       "      <td>2.240868</td>\n",
       "      <td>1357.356725</td>\n",
       "      <td>152.588511</td>\n",
       "      <td>1204.514634</td>\n",
       "      <td>12.479515</td>\n",
       "      <td>30.332244</td>\n",
       "    </tr>\n",
       "    <tr>\n",
       "      <th>std</th>\n",
       "      <td>0.0</td>\n",
       "      <td>3.324399</td>\n",
       "      <td>8.789417</td>\n",
       "      <td>522.583793</td>\n",
       "      <td>29.112035</td>\n",
       "      <td>523.958781</td>\n",
       "      <td>31.191037</td>\n",
       "      <td>1495.271031</td>\n",
       "      <td>72.547469</td>\n",
       "      <td>653.150062</td>\n",
       "      <td>5.232476</td>\n",
       "      <td>18.061569</td>\n",
       "    </tr>\n",
       "    <tr>\n",
       "      <th>min</th>\n",
       "      <td>2014.0</td>\n",
       "      <td>1.000000</td>\n",
       "      <td>1.000000</td>\n",
       "      <td>1.000000</td>\n",
       "      <td>-37.000000</td>\n",
       "      <td>1.000000</td>\n",
       "      <td>-67.000000</td>\n",
       "      <td>2.000000</td>\n",
       "      <td>18.000000</td>\n",
       "      <td>93.000000</td>\n",
       "      <td>0.000000</td>\n",
       "      <td>0.000000</td>\n",
       "    </tr>\n",
       "    <tr>\n",
       "      <th>25%</th>\n",
       "      <td>2014.0</td>\n",
       "      <td>4.000000</td>\n",
       "      <td>8.000000</td>\n",
       "      <td>831.000000</td>\n",
       "      <td>-5.000000</td>\n",
       "      <td>1127.000000</td>\n",
       "      <td>-12.000000</td>\n",
       "      <td>408.000000</td>\n",
       "      <td>103.000000</td>\n",
       "      <td>689.000000</td>\n",
       "      <td>8.000000</td>\n",
       "      <td>14.000000</td>\n",
       "    </tr>\n",
       "    <tr>\n",
       "      <th>50%</th>\n",
       "      <td>2014.0</td>\n",
       "      <td>7.000000</td>\n",
       "      <td>16.000000</td>\n",
       "      <td>1217.000000</td>\n",
       "      <td>-2.000000</td>\n",
       "      <td>1517.000000</td>\n",
       "      <td>-4.000000</td>\n",
       "      <td>694.000000</td>\n",
       "      <td>129.000000</td>\n",
       "      <td>991.000000</td>\n",
       "      <td>12.000000</td>\n",
       "      <td>30.000000</td>\n",
       "    </tr>\n",
       "    <tr>\n",
       "      <th>75%</th>\n",
       "      <td>2014.0</td>\n",
       "      <td>9.000000</td>\n",
       "      <td>23.000000</td>\n",
       "      <td>1721.000000</td>\n",
       "      <td>5.000000</td>\n",
       "      <td>1918.000000</td>\n",
       "      <td>7.000000</td>\n",
       "      <td>1726.000000</td>\n",
       "      <td>199.000000</td>\n",
       "      <td>1660.000000</td>\n",
       "      <td>17.000000</td>\n",
       "      <td>47.000000</td>\n",
       "    </tr>\n",
       "    <tr>\n",
       "      <th>max</th>\n",
       "      <td>2014.0</td>\n",
       "      <td>12.000000</td>\n",
       "      <td>31.000000</td>\n",
       "      <td>2400.000000</td>\n",
       "      <td>1553.000000</td>\n",
       "      <td>2400.000000</td>\n",
       "      <td>1539.000000</td>\n",
       "      <td>6527.000000</td>\n",
       "      <td>422.000000</td>\n",
       "      <td>2724.000000</td>\n",
       "      <td>24.000000</td>\n",
       "      <td>59.000000</td>\n",
       "    </tr>\n",
       "  </tbody>\n",
       "</table>\n",
       "</div>"
      ],
      "text/plain": [
       "           year          month            day       dep_time      dep_delay  \\\n",
       "count  162049.0  162049.000000  162049.000000  161192.000000  161192.000000   \n",
       "mean     2014.0       6.605027      15.749890    1278.283755       6.133859   \n",
       "std         0.0       3.324399       8.789417     522.583793      29.112035   \n",
       "min      2014.0       1.000000       1.000000       1.000000     -37.000000   \n",
       "25%      2014.0       4.000000       8.000000     831.000000      -5.000000   \n",
       "50%      2014.0       7.000000      16.000000    1217.000000      -2.000000   \n",
       "75%      2014.0       9.000000      23.000000    1721.000000       5.000000   \n",
       "max      2014.0      12.000000      31.000000    2400.000000    1553.000000   \n",
       "\n",
       "            arr_time      arr_delay         flight       air_time  \\\n",
       "count  161061.000000  160748.000000  162049.000000  160748.000000   \n",
       "mean     1482.501282       2.240868    1357.356725     152.588511   \n",
       "std       523.958781      31.191037    1495.271031      72.547469   \n",
       "min         1.000000     -67.000000       2.000000      18.000000   \n",
       "25%      1127.000000     -12.000000     408.000000     103.000000   \n",
       "50%      1517.000000      -4.000000     694.000000     129.000000   \n",
       "75%      1918.000000       7.000000    1726.000000     199.000000   \n",
       "max      2400.000000    1539.000000    6527.000000     422.000000   \n",
       "\n",
       "            distance           hour         minute  \n",
       "count  162049.000000  161192.000000  161192.000000  \n",
       "mean     1204.514634      12.479515      30.332244  \n",
       "std       653.150062       5.232476      18.061569  \n",
       "min        93.000000       0.000000       0.000000  \n",
       "25%       689.000000       8.000000      14.000000  \n",
       "50%       991.000000      12.000000      30.000000  \n",
       "75%      1660.000000      17.000000      47.000000  \n",
       "max      2724.000000      24.000000      59.000000  "
      ]
     },
     "execution_count": 6,
     "metadata": {},
     "output_type": "execute_result"
    }
   ],
   "source": [
    "df.describe()"
   ]
  },
  {
   "cell_type": "code",
   "execution_count": 7,
   "metadata": {},
   "outputs": [
    {
     "name": "stdout",
     "output_type": "stream",
     "text": [
      "<class 'pandas.core.frame.DataFrame'>\n",
      "RangeIndex: 162049 entries, 0 to 162048\n",
      "Data columns (total 16 columns):\n",
      "year         162049 non-null int64\n",
      "month        162049 non-null int64\n",
      "day          162049 non-null int64\n",
      "dep_time     161192 non-null float64\n",
      "dep_delay    161192 non-null float64\n",
      "arr_time     161061 non-null float64\n",
      "arr_delay    160748 non-null float64\n",
      "carrier      162049 non-null object\n",
      "tailnum      161801 non-null object\n",
      "flight       162049 non-null int64\n",
      "origin       162049 non-null object\n",
      "dest         162049 non-null object\n",
      "air_time     160748 non-null float64\n",
      "distance     162049 non-null int64\n",
      "hour         161192 non-null float64\n",
      "minute       161192 non-null float64\n",
      "dtypes: float64(7), int64(5), object(4)\n",
      "memory usage: 19.8+ MB\n"
     ]
    }
   ],
   "source": [
    "df.info()"
   ]
  },
  {
   "cell_type": "code",
   "execution_count": 8,
   "metadata": {},
   "outputs": [
    {
     "data": {
      "text/plain": [
       "array(['PDX', 'SEA'], dtype=object)"
      ]
     },
     "execution_count": 8,
     "metadata": {},
     "output_type": "execute_result"
    }
   ],
   "source": [
    "df3 = df2[:1000]\n",
    "df3['origin'].unique()"
   ]
  },
  {
   "cell_type": "code",
   "execution_count": 9,
   "metadata": {},
   "outputs": [
    {
     "data": {
      "text/plain": [
       "<matplotlib.axes._subplots.AxesSubplot at 0x20796a1e470>"
      ]
     },
     "execution_count": 9,
     "metadata": {},
     "output_type": "execute_result"
    }
   ],
   "source": [
    "import matplotlib.pyplot as plt\n",
    "df3.plot(kind='bar',x='origin',y='flight')"
   ]
  },
  {
   "cell_type": "code",
   "execution_count": 10,
   "metadata": {},
   "outputs": [
    {
     "data": {
      "text/plain": [
       "<matplotlib.axes._subplots.AxesSubplot at 0x207997ca470>"
      ]
     },
     "execution_count": 10,
     "metadata": {},
     "output_type": "execute_result"
    },
    {
     "data": {
      "image/png": "[encoded data removed]",
      "text/plain": [
       "<Figure size 432x288 with 1 Axes>"
      ]
     },
     "metadata": {
      "needs_background": "light"
     },
     "output_type": "display_data"
    }
   ],
   "source": [
    "pd.value_counts(df3['carrier']).plot.bar()"
   ]
  },
  {
   "cell_type": "code",
   "execution_count": 11,
   "metadata": {},
   "outputs": [
    {
     "data": {
      "text/plain": [
       "<matplotlib.axes._subplots.AxesSubplot at 0x207997b4d30>"
      ]
     },
     "execution_count": 11,
     "metadata": {},
     "output_type": "execute_result"
    },
    {
     "data": {
      "image/png": "[encoded data removed]",
      "text/plain": [
       "<Figure size 432x288 with 1 Axes>"
      ]
     },
     "metadata": {
      "needs_background": "light"
     },
     "output_type": "display_data"
    }
   ],
   "source": [
    "df3['carrier'].hist()"
   ]
  },
  {
   "cell_type": "code",
   "execution_count": 12,
   "metadata": {},
   "outputs": [
    {
     "data": {
      "text/plain": [
       "array([[<matplotlib.axes._subplots.AxesSubplot object at 0x000002079ECF8358>,\n",
       "        <matplotlib.axes._subplots.AxesSubplot object at 0x000002079F22A940>,\n",
       "        <matplotlib.axes._subplots.AxesSubplot object at 0x000002079F80F780>],\n",
       "       [<matplotlib.axes._subplots.AxesSubplot object at 0x000002079FD7A7B8>,\n",
       "        <matplotlib.axes._subplots.AxesSubplot object at 0x00000207A05CE0B8>,\n",
       "        <matplotlib.axes._subplots.AxesSubplot object at 0x00000207A0EDFC50>],\n",
       "       [<matplotlib.axes._subplots.AxesSubplot object at 0x00000207A10952B0>,\n",
       "        <matplotlib.axes._subplots.AxesSubplot object at 0x00000207A0F7C898>,\n",
       "        <matplotlib.axes._subplots.AxesSubplot object at 0x00000207A0F7C8D0>],\n",
       "       [<matplotlib.axes._subplots.AxesSubplot object at 0x00000207A150F3C8>,\n",
       "        <matplotlib.axes._subplots.AxesSubplot object at 0x00000207A14D7978>,\n",
       "        <matplotlib.axes._subplots.AxesSubplot object at 0x00000207A13D7F28>]],\n",
       "      dtype=object)"
      ]
     },
     "execution_count": 12,
     "metadata": {},
     "output_type": "execute_result"
    },
    {
     "data": {
      "image/png": "[encoded data removed]",
      "text/plain": [
       "<Figure size 432x288 with 12 Axes>"
      ]
     },
     "metadata": {
      "needs_background": "light"
     },
     "output_type": "display_data"
    }
   ],
   "source": [
    "df3.hist()"
   ]
  },
  {
   "cell_type": "code",
   "execution_count": 14,
   "metadata": {},
   "outputs": [
    {
     "data": {
      "text/plain": [
       "array([[<matplotlib.axes._subplots.AxesSubplot object at 0x00000207A13CF7B8>]],\n",
       "      dtype=object)"
      ]
     },
     "execution_count": 14,
     "metadata": {},
     "output_type": "execute_result"
    },
    {
     "data": {
      "image/png": "[encoded data removed]",
      "text/plain": [
       "<Figure size 432x288 with 1 Axes>"
      ]
     },
     "metadata": {
      "needs_background": "light"
     },
     "output_type": "display_data"
    }
   ],
   "source": [
    "df3.hist(column='flight')"
   ]
  },
  {
   "cell_type": "code",
   "execution_count": 15,
   "metadata": {},
   "outputs": [
    {
     "data": {
      "text/plain": [
       "<matplotlib.axes._subplots.AxesSubplot at 0x207a2cd4588>"
      ]
     },
     "execution_count": 15,
     "metadata": {},
     "output_type": "execute_result"
    },
    {
     "data": {
      "image/png": "[encoded data removed]",
      "text/plain": [
       "<Figure size 432x288 with 1 Axes>"
      ]
     },
     "metadata": {
      "needs_background": "light"
     },
     "output_type": "display_data"
    }
   ],
   "source": [
    "#Buat Plot Scatter dari Kolom Numerik => sitance dan flight\n",
    "df3.plot.scatter(x='distance',y='flight')"
   ]
  },
  {
   "cell_type": "code",
   "execution_count": 16,
   "metadata": {},
   "outputs": [
    {
     "data": {
      "text/plain": [
       "year          0.000000\n",
       "month         0.000000\n",
       "day          -0.932473\n",
       "dep_time     -0.730277\n",
       "dep_delay    30.509414\n",
       "arr_time     -0.427665\n",
       "arr_delay    24.197096\n",
       "flight        2.386138\n",
       "air_time      0.314985\n",
       "distance     -0.360844\n",
       "hour         -0.728372\n",
       "minute       -1.241246\n",
       "dtype: float64"
      ]
     },
     "execution_count": 16,
     "metadata": {},
     "output_type": "execute_result"
    }
   ],
   "source": [
    "#Melihat Kurtosis\n",
    "df3.kurt()"
   ]
  },
  {
   "cell_type": "code",
   "execution_count": 17,
   "metadata": {},
   "outputs": [
    {
     "data": {
      "text/plain": [
       "year         0.000000\n",
       "month        0.000000\n",
       "day          0.404767\n",
       "dep_time     0.322156\n",
       "dep_delay    4.722089\n",
       "arr_time    -0.225091\n",
       "arr_delay    4.096195\n",
       "flight       1.784260\n",
       "air_time     0.920097\n",
       "distance     0.733179\n",
       "hour         0.321805\n",
       "minute       0.016581\n",
       "dtype: float64"
      ]
     },
     "execution_count": 17,
     "metadata": {},
     "output_type": "execute_result"
    }
   ],
   "source": [
    "#Melihat Skewness\n",
    "df3.skew()"
   ]
  },
  {
   "cell_type": "code",
   "execution_count": 18,
   "metadata": {},
   "outputs": [
    {
     "data": {
      "text/plain": [
       "<matplotlib.axes._subplots.AxesSubplot at 0x207a2dbbc88>"
      ]
     },
     "execution_count": 18,
     "metadata": {},
     "output_type": "execute_result"
    },
    {
     "data": {
      "image/png": "[encoded data removed]",
      "text/plain": [
       "<Figure size 432x288 with 1 Axes>"
      ]
     },
     "metadata": {
      "needs_background": "light"
     },
     "output_type": "display_data"
    }
   ],
   "source": [
    "df3['flight'].plot()"
   ]
  },
  {
   "cell_type": "code",
   "execution_count": 20,
   "metadata": {},
   "outputs": [
    {
     "data": {
      "text/plain": [
       "<matplotlib.axes._subplots.AxesSubplot at 0x207a2eb2400>"
      ]
     },
     "execution_count": 20,
     "metadata": {},
     "output_type": "execute_result"
    },
    {
     "data": {
      "image/png": "[encoded data removed]",
      "text/plain": [
       "<Figure size 432x288 with 1 Axes>"
      ]
     },
     "metadata": {
      "needs_background": "light"
     },
     "output_type": "display_data"
    }
   ],
   "source": [
    "df3.boxplot('flight','origin')"
   ]
  },
  {
   "cell_type": "code",
   "execution_count": null,
   "metadata": {},
   "outputs": [],
   "source": []
  }
 ],
 "metadata": {
  "kernelspec": {
   "display_name": "Python 3",
   "language": "python",
   "name": "python3"
  },
  "language_info": {
   "codemirror_mode": {
    "name": "ipython",
    "version": 3
   },
   "file_extension": ".py",
   "mimetype": "text/x-python",
   "name": "python",
   "nbconvert_exporter": "python",
   "pygments_lexer": "ipython3",
   "version": "3.7.3"
  }
 },
 "nbformat": 4,
 "nbformat_minor": 2
}
